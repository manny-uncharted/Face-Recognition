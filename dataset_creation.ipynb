{
 "cells": [
  {
   "cell_type": "code",
   "execution_count": 19,
   "metadata": {},
   "outputs": [],
   "source": [
    "from PIL import Image\n",
    "import numpy as np\n",
    "import sys\n",
    "import os\n",
    "import csv"
   ]
  },
  {
   "cell_type": "code",
   "execution_count": 20,
   "metadata": {},
   "outputs": [],
   "source": [
    "# default format can be changed as needed\n",
    "def createFileList(myDir, format='.jpg'):\n",
    "    fileList = []\n",
    "    print(myDir)\n",
    "    labels = []\n",
    "    names = []\n",
    "    keywords = {\"A\" : \"0\",\"B\": \"1\", \"C\": \"2\", \"D\": \"3\", \"E\": \"4\", \"F\": \"5\"} # keys and values to be changed as needed\n",
    "    for root, dirs, files in os.walk(myDir, topdown=True):\n",
    "        for name in files:\n",
    "            if name.endswith(format):\n",
    "                fullName = os.path.join(root, name)\n",
    "                fileList.append(fullName)\n",
    "            for keyword in keywords:\n",
    "                if keyword in name:\n",
    "                    labels.append(keywords[keyword])\n",
    "                else:\n",
    "                    continue\n",
    "            names.append(name)\n",
    "    return fileList, labels, names"
   ]
  },
  {
   "cell_type": "code",
   "execution_count": 21,
   "metadata": {},
   "outputs": [
    {
     "name": "stdout",
     "output_type": "stream",
     "text": [
      "training_set/\n",
      "training_set/A\\A1.jpg\n"
     ]
    },
    {
     "name": "stderr",
     "output_type": "stream",
     "text": [
      "C:\\Users\\manny-uncharted\\AppData\\Local\\Temp\\ipykernel_14376\\2575801293.py:17: DeprecationWarning: `np.int` is a deprecated alias for the builtin `int`. To silence this warning, use `int` by itself. Doing this will not modify any behavior and is safe. When replacing `np.int`, you may wish to use e.g. `np.int64` or `np.int32` to specify the precision. If you wish to review your current use, check the release note link for additional information.\n",
      "Deprecated in NumPy 1.20; for more details and guidance: https://numpy.org/devdocs/release/1.20.0-notes.html#deprecations\n",
      "  value = np.asarray(img_grey.getdata(), dtype=np.int).reshape((width, height))\n"
     ]
    },
    {
     "name": "stdout",
     "output_type": "stream",
     "text": [
      "['168' '168' '166' ... '222' '217' '0']\n",
      "training_set/A\\A2.jpg\n",
      "['107' '107' '108' ... '179' '177' '0']\n",
      "training_set/A\\A3.jpg\n",
      "['109' '109' '110' ... '207' '212' '0']\n",
      "training_set/B\\B1.jpg\n",
      "['107' '107' '108' ... '114' '114' '1']\n",
      "training_set/B\\B2.jpg\n",
      "['78' '79' '80' ... '80' '81' '1']\n",
      "training_set/B\\B3.jpg\n",
      "['191' '191' '189' ... '81' '73' '1']\n",
      "training_set/C\\C1.jpg\n",
      "['56' '58' '60' ... '79' '79' '2']\n",
      "training_set/C\\C2.jpg\n",
      "['133' '132' '132' ... '54' '54' '2']\n",
      "training_set/D\\D1.jpg\n",
      "['167' '168' '169' ... '147' '135' '2']\n",
      "training_set/D\\D2.jpg\n",
      "['148' '146' '143' ... '133' '133' '3']\n",
      "training_set/D\\D3.jpg\n",
      "['77' '79' '81' ... '59' '61' '3']\n",
      "training_set/F\\F1.jpg\n",
      "['61' '67' '68' ... '49' '49' '3']\n",
      "training_set/F\\F2.jpg\n",
      "['37' '38' '39' ... '20' '20' '4']\n"
     ]
    }
   ],
   "source": [
    "# load the original image\n",
    "myFileList, labels, names  = createFileList('training_set/')\n",
    "i = 0\n",
    "for file in myFileList:\n",
    "    print(file)\n",
    "    img_file = Image.open(file)\n",
    "    # img_file.show()\n",
    "# get original image parameters...\n",
    "    width, height = img_file.size\n",
    "    format = img_file.format\n",
    "    mode = img_file.mode\n",
    "# Make image Greyscale\n",
    "    img_grey = img_file.convert('L')\n",
    "    #img_grey.save('result.png')\n",
    "    #img_grey.show()\n",
    "# Save Greyscale values\n",
    "    value = np.asarray(img_grey.getdata(), dtype=np.int).reshape((width, height))\n",
    "    value = value.flatten()\n",
    "    \n",
    "    value = np.append(value,labels[i])\n",
    "    i +=1\n",
    "    \n",
    "    print(value)\n",
    "    with open(\"training_dataset.csv\", 'a') as f:\n",
    "        writer = csv.writer(f)\n",
    "        writer.writerow(value)"
   ]
  },
  {
   "cell_type": "code",
   "execution_count": null,
   "metadata": {},
   "outputs": [],
   "source": [
    "df = pd.read_csv(\"training_dataset.csv\", header=None)\n",
    "display(df.head())"
   ]
  },
  {
   "cell_type": "code",
   "execution_count": null,
   "metadata": {},
   "outputs": [],
   "source": []
  },
  {
   "cell_type": "code",
   "execution_count": null,
   "metadata": {},
   "outputs": [],
   "source": []
  },
  {
   "cell_type": "code",
   "execution_count": null,
   "metadata": {},
   "outputs": [],
   "source": []
  },
  {
   "cell_type": "code",
   "execution_count": null,
   "metadata": {},
   "outputs": [],
   "source": []
  },
  {
   "cell_type": "code",
   "execution_count": null,
   "metadata": {},
   "outputs": [],
   "source": []
  },
  {
   "cell_type": "code",
   "execution_count": null,
   "metadata": {},
   "outputs": [],
   "source": []
  },
  {
   "cell_type": "code",
   "execution_count": null,
   "metadata": {},
   "outputs": [],
   "source": []
  },
  {
   "cell_type": "code",
   "execution_count": null,
   "metadata": {},
   "outputs": [],
   "source": []
  },
  {
   "cell_type": "code",
   "execution_count": null,
   "metadata": {},
   "outputs": [],
   "source": []
  },
  {
   "cell_type": "code",
   "execution_count": null,
   "metadata": {},
   "outputs": [],
   "source": []
  },
  {
   "cell_type": "code",
   "execution_count": null,
   "metadata": {},
   "outputs": [],
   "source": []
  },
  {
   "cell_type": "code",
   "execution_count": null,
   "metadata": {},
   "outputs": [],
   "source": []
  },
  {
   "cell_type": "code",
   "execution_count": null,
   "metadata": {},
   "outputs": [],
   "source": []
  },
  {
   "cell_type": "code",
   "execution_count": null,
   "metadata": {},
   "outputs": [],
   "source": []
  }
 ],
 "metadata": {
  "kernelspec": {
   "display_name": "facial-mesh-algo",
   "language": "python",
   "name": "python3"
  },
  "language_info": {
   "codemirror_mode": {
    "name": "ipython",
    "version": 3
   },
   "file_extension": ".py",
   "mimetype": "text/x-python",
   "name": "python",
   "nbconvert_exporter": "python",
   "pygments_lexer": "ipython3",
   "version": "3.10.4"
  },
  "orig_nbformat": 4,
  "vscode": {
   "interpreter": {
    "hash": "a428494fa6d860441ac489cdccf766e0482cec3fa5a7b397e69b2f7d877be0b9"
   }
  }
 },
 "nbformat": 4,
 "nbformat_minor": 2
}
