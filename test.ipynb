{
 "cells": [
  {
   "cell_type": "code",
   "execution_count": 3,
   "metadata": {},
   "outputs": [],
   "source": [
    "import sys\n",
    "# import sklearn\n",
    "from sklearn.decomposition import PCA\n",
    "import matplotlib.image as mpimg\n",
    "import matplotlib.pyplot as plt\n",
    "import numpy as np\n",
    "import cv2\n",
    "from PIL import Image\n",
    "import os\n",
    "import glob"
   ]
  },
  {
   "cell_type": "code",
   "execution_count": 10,
   "metadata": {},
   "outputs": [],
   "source": [
    "filename = ['A1.jpg', 'A2.jpg', 'A3.jpg', 'B1.jpg', 'B2.jpg', 'B3.jpg', 'C1.jpg', 'C2.jpg', 'C3.jpg', 'D1.jpg', 'D2.jpg', 'D3.jpg', 'E1.jpg', 'E2.jpg', 'E3.jpg', 'F1.jpg', 'F2.jpg', 'F3.jpg',]"
   ]
  },
  {
   "cell_type": "code",
   "execution_count": 41,
   "metadata": {},
   "outputs": [
    {
     "name": "stdout",
     "output_type": "stream",
     "text": [
      "0.9751020227275405\n",
      "(1188, 2709)\n",
      "0.9766854748377849\n",
      "(1204, 2457)\n",
      "0.9712389944100528\n",
      "(1627, 3189)\n",
      "0.9784797884745572\n",
      "(1557, 3453)\n",
      "0.9783411250707674\n",
      "(1739, 3369)\n",
      "0.9390328049161408\n",
      "(1080, 2226)\n",
      "0.9433753954999311\n",
      "(893, 2043)\n",
      "0.9071502102386362\n",
      "(2512, 5652)\n",
      "0.9289798754056819\n",
      "(1033, 1890)\n",
      "0.9718064527744347\n",
      "(1061, 2328)\n",
      "0.9489958583825989\n",
      "(1511, 3201)\n",
      "0.9401467508617228\n",
      "(1063, 2247)\n",
      "0.8949463730555054\n",
      "(1865, 4389)\n",
      "0.8659833788049446\n",
      "(2179, 5061)\n",
      "0.9343695371072738\n",
      "(1215, 2670)\n",
      "0.9551182020863717\n",
      "(1440, 3135)\n",
      "0.9499946574149566\n",
      "(1344, 3225)\n"
     ]
    }
   ],
   "source": [
    "for i in range(1, len(filename)):\n",
    "    # for filename in glob.glob(\"C:\\\\Users\\\\manny-uncharted\\\\Documents\\\\coding-projects\\\\Face-Recognition\\\\training_set\\\\*.jpg\"):\n",
    "    # im=cv2.imread(filename,0)\n",
    "    img = mpimg.imread('training_set/' + filename[i])\n",
    "    # print(img.shape)\n",
    "    # img = cv2.cvtColor(img, cv2.COLOR_BGR2GRAY)\n",
    "    # plt.axis('off')\n",
    "    # plt.imshow(img)\n",
    "\n",
    "    # print(\"Length of the image \", img.shape[2])\n",
    "\n",
    "    # reshape the image\n",
    "    img_r = np.reshape(img, (img.shape[0], img.shape[1] * img.shape[2]))\n",
    "    # print(img_r.shape)\n",
    "\n",
    "    ipca = PCA(20).fit(img_r)\n",
    "    img_c = ipca.transform(img_r)\n",
    "    # print(img_c.shape)\n",
    "    print(np.sum(ipca.explained_variance_ratio_))\n",
    "\n",
    "    temp = ipca.inverse_transform(img_c)\n",
    "    print(temp.shape)\n",
    "\n",
    "    # temp = np.reshape(temp, img.shape)\n",
    "\n",
    "    # print(temp.shape)\n",
    "\n",
    "    # plt.axis('off')\n",
    "    # plt.imshow(temp)\n",
    "    mpimg.imsave('compressed_inp/'+ filename[i],temp)\n",
    "    plt.show()"
   ]
  },
  {
   "cell_type": "code",
   "execution_count": null,
   "metadata": {},
   "outputs": [],
   "source": []
  },
  {
   "cell_type": "code",
   "execution_count": null,
   "metadata": {},
   "outputs": [],
   "source": []
  },
  {
   "cell_type": "code",
   "execution_count": null,
   "metadata": {},
   "outputs": [],
   "source": []
  },
  {
   "cell_type": "code",
   "execution_count": null,
   "metadata": {},
   "outputs": [],
   "source": []
  },
  {
   "cell_type": "code",
   "execution_count": null,
   "metadata": {},
   "outputs": [],
   "source": []
  },
  {
   "cell_type": "code",
   "execution_count": null,
   "metadata": {},
   "outputs": [],
   "source": []
  },
  {
   "cell_type": "code",
   "execution_count": null,
   "metadata": {},
   "outputs": [],
   "source": []
  },
  {
   "cell_type": "code",
   "execution_count": null,
   "metadata": {},
   "outputs": [],
   "source": []
  },
  {
   "cell_type": "code",
   "execution_count": null,
   "metadata": {},
   "outputs": [],
   "source": []
  },
  {
   "cell_type": "code",
   "execution_count": null,
   "metadata": {},
   "outputs": [],
   "source": []
  },
  {
   "cell_type": "code",
   "execution_count": null,
   "metadata": {},
   "outputs": [],
   "source": []
  },
  {
   "cell_type": "code",
   "execution_count": null,
   "metadata": {},
   "outputs": [],
   "source": []
  },
  {
   "cell_type": "code",
   "execution_count": null,
   "metadata": {},
   "outputs": [],
   "source": []
  }
 ],
 "metadata": {
  "kernelspec": {
   "display_name": "facial-mesh-algo",
   "language": "python",
   "name": "python3"
  },
  "language_info": {
   "codemirror_mode": {
    "name": "ipython",
    "version": 3
   },
   "file_extension": ".py",
   "mimetype": "text/x-python",
   "name": "python",
   "nbconvert_exporter": "python",
   "pygments_lexer": "ipython3",
   "version": "3.10.4"
  },
  "orig_nbformat": 4,
  "vscode": {
   "interpreter": {
    "hash": "a428494fa6d860441ac489cdccf766e0482cec3fa5a7b397e69b2f7d877be0b9"
   }
  }
 },
 "nbformat": 4,
 "nbformat_minor": 2
}
